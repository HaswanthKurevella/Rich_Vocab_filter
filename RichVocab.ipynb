{
 "cells": [
  {
   "cell_type": "markdown",
   "metadata": {},
   "source": [
    "## Extracting Rich Vocabulary Words from a PDF\n",
    "\n",
    "### Step 1: Extract Text from the PDF\n",
    "I have used the `PyMuPDF` library (`fitz` module) to extract text from the PDF.\n",
    "\n",
    "### Step 2: Tokenize the Text\n",
    "I have used the `nltk` library to tokenize the text into words.\n",
    "\n",
    "### Step 3: Filter Common Words\n",
    "I have used the `nltk.corpus` to filter out common English words (stopwords).\n",
    "\n",
    "### Step 4: Select Uncommon Words\n",
    "I have counted the frequency of each word and selected the least frequent ones to identify rich vocabulary words.\n",
    "\n",
    "### Step 5: Select 100 Words\n",
    "I have sorted the words by frequency and selected the top 100 uncommon words.\n",
    "\n",
    "### Python Code\n",
    "\n",
    "First, install the required libraries:\n",
    "\n",
    "```sh\n",
    "pip install PyMuPDF nltk\n",
    "```"
   ]
  },
  {
   "cell_type": "code",
   "execution_count": 11,
   "metadata": {},
   "outputs": [
    {
     "name": "stdout",
     "output_type": "stream",
     "text": [
      "['chased', 'cutting', 'fortunately', 'exchanging', 'insults', 'glimpse', 'passenger', 'angel', 'trickling', 'cheeks', 'shades', 'wished', 'bit', 'hoped', 'follow', 'mine', 'crash', 'smashing', 'uncertainty', 'bidding', 'farewells', 'spectrum', 'akarshak', 'tanwar', 'medieval', 'wars', 'tainted', 'canvas', 'adorning', 'garment', 'armour', 'blend', 'colours', 'unseen', 'darkness', 'battalions', 'onward', 'onlookers', 'immaculate', 'lustre', 'fluster', 'bone', 'funny', 'oh', 'honey', 'muster', 'win', 'generations', 'knows', 'rainbow', 'athul', 'awfully', 'dull', 'sam', 'tech', 'employee', 'survived', 'uneventful', 'flung', 'backpack', 'floor', 'crashed', 'couch', 'inflicted', 'lethargy', 'pizza', 'meantime', 'kindle', 'published', 'doorbell', 'strangely', 'answered', 'gut', 'clenched', 'lab', 'principal', 'poisoned', 'suspicion', 'troubled', 'unease', 'gnawed', 'kind', 'pillar', 'grieving', 'munching', 'apple', 'cyanide', 'seeds', 'horrific', 'image', 'slammed', 'tearful', 'serene', 'confronted', 'confessed', 'revenge', 'harassment', 'duty', 'grief', 'clashed']\n"
     ]
    },
    {
     "name": "stderr",
     "output_type": "stream",
     "text": [
      "[nltk_data] Downloading package punkt to\n",
      "[nltk_data]     C:\\Users\\haswa\\AppData\\Roaming\\nltk_data...\n",
      "[nltk_data]   Package punkt is already up-to-date!\n",
      "[nltk_data] Downloading package stopwords to\n",
      "[nltk_data]     C:\\Users\\haswa\\AppData\\Roaming\\nltk_data...\n",
      "[nltk_data]   Package stopwords is already up-to-date!\n"
     ]
    }
   ],
   "source": [
    "import fitz  # PyMuPDF\n",
    "import nltk\n",
    "from nltk.corpus import stopwords\n",
    "import string\n",
    "\n",
    "# Step 1: Extract Text from the PDF\n",
    "def extract_text_from_pdf(pdf_path):\n",
    "    doc = fitz.open(pdf_path)\n",
    "    text = \"\"\n",
    "    for page_num in range(len(doc)):\n",
    "        page = doc.load_page(page_num)\n",
    "        text += page.get_text()\n",
    "    return text\n",
    "\n",
    "# Step 2: Tokenize and Filter Words\n",
    "def tokenize_and_filter(text):\n",
    "    nltk.download('punkt')\n",
    "    nltk.download('stopwords')\n",
    "    \n",
    "    words = nltk.word_tokenize(text)\n",
    "    stop_words = set(stopwords.words('english'))\n",
    "    filtered_words = [\n",
    "        word.lower() for word in words\n",
    "        if word.isalpha() and word.lower() not in stop_words\n",
    "    ]\n",
    "    return filtered_words\n",
    "\n",
    "# Step 3: Select Uncommon Words\n",
    "def select_uncommon_words(words, top_n=100):\n",
    "    word_freq = nltk.FreqDist(words)\n",
    "    sorted_words = sorted(word_freq.items(), key=lambda item: item[1])\n",
    "    uncommon_words = [word for word, freq in sorted_words[:top_n]]\n",
    "    return uncommon_words\n",
    "\n",
    "# Main function to perform the analysis\n",
    "def analyze_pdf_for_rich_vocabulary(pdf_path):\n",
    "    text = extract_text_from_pdf(pdf_path)\n",
    "    filtered_words = tokenize_and_filter(text)\n",
    "    uncommon_words = select_uncommon_words(filtered_words)\n",
    "    return uncommon_words\n",
    "\n",
    "# Example usage\n",
    "pdf_path = 'D:\\Rich_Vocab_filter\\data.pdf' #replace the your file path here.\n",
    "            # if you are using jupyter environment either you can upload your file into jupyter or you can use the file path to access the pdf.\n",
    "top_100_words = analyze_pdf_for_rich_vocabulary(pdf_path)\n",
    "print(top_100_words)\n"
   ]
  }
 ],
 "metadata": {
  "kernelspec": {
   "display_name": "Python 3 (ipykernel)",
   "language": "python",
   "name": "python3"
  },
  "language_info": {
   "codemirror_mode": {
    "name": "ipython",
    "version": 3
   },
   "file_extension": ".py",
   "mimetype": "text/x-python",
   "name": "python",
   "nbconvert_exporter": "python",
   "pygments_lexer": "ipython3",
   "version": "3.9.13"
  }
 },
 "nbformat": 4,
 "nbformat_minor": 2
}
